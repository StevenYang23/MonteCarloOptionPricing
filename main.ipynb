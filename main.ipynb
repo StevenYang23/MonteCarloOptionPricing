{
 "cells": [
  {
   "cell_type": "code",
   "execution_count": 17,
   "id": "19684715",
   "metadata": {},
   "outputs": [],
   "source": [
    "# Import all required libraries\n",
    "import yfinance as yf\n",
    "import pandas as pd\n",
    "import numpy as np\n",
    "from datetime import datetime\n",
    "from scipy.stats import norm\n",
    "from scipy.optimize import brentq\n",
    "from sklearn.linear_model import LinearRegression\n",
    "import plotly.graph_objects as go\n",
    "import matplotlib.pyplot as plt\n",
    "import scipy.stats as stats\n",
    "from scipy.interpolate import CubicSpline\n",
    "from scipy.interpolate import interp1d\n",
    "import matplotlib as mpl\n",
    "from scipy.interpolate import griddata\n",
    "from scipy.interpolate import CloughTocher2DInterpolator\n",
    "from plotly.subplots import make_subplots\n",
    "from scipy.optimize import fmin\n",
    "from scipy.optimize import minimize,least_squares,dual_annealing,differential_evolution\n",
    "i = complex(0,1)\n",
    "\n",
    "\n",
    "# Import all functions from custom modules\n",
    "from Load_data_yfiance import get_data\n",
    "from Fit_interp_regres import get_interp\n",
    "from plot_2_interp import plot_two_interp\n",
    "from plot_loc_vol_surface import plot_local_vol_surface\n",
    "from heston import heston_simulation, fit_Heston_model\n",
    "from BS_model import black_scholes_call, implied_vol\n",
    "from dupire import get_local_vol_surface\n",
    "from scipy.optimize import minimize,least_squares,dual_annealing,differential_evolution"
   ]
  },
  {
   "cell_type": "code",
   "execution_count": 18,
   "id": "476c90b0",
   "metadata": {},
   "outputs": [
    {
     "ename": "NameError",
     "evalue": "name 'np' is not defined",
     "output_type": "error",
     "traceback": [
      "\u001b[31m---------------------------------------------------------------------------\u001b[39m",
      "\u001b[31mNameError\u001b[39m                                 Traceback (most recent call last)",
      "\u001b[36mCell\u001b[39m\u001b[36m \u001b[39m\u001b[32mIn[18]\u001b[39m\u001b[32m, line 4\u001b[39m\n\u001b[32m      2\u001b[39m r = \u001b[32m0.045\u001b[39m\n\u001b[32m      3\u001b[39m Today = \u001b[33m\"\u001b[39m\u001b[33m2025-10-16\u001b[39m\u001b[33m\"\u001b[39m\n\u001b[32m----> \u001b[39m\u001b[32m4\u001b[39m calls,option = \u001b[43mget_data\u001b[49m\u001b[43m(\u001b[49m\u001b[43mTicker\u001b[49m\u001b[43m \u001b[49m\u001b[43m=\u001b[49m\u001b[43m \u001b[49m\u001b[43mspx\u001b[49m\u001b[43m,\u001b[49m\u001b[43m \u001b[49m\u001b[43mr\u001b[49m\u001b[43m \u001b[49m\u001b[43m=\u001b[49m\u001b[43m \u001b[49m\u001b[43mr\u001b[49m\u001b[43m,\u001b[49m\u001b[43m \u001b[49m\u001b[43mToday\u001b[49m\u001b[43m \u001b[49m\u001b[43m=\u001b[49m\u001b[43m \u001b[49m\u001b[43mToday\u001b[49m\u001b[43m)\u001b[49m\n\u001b[32m      5\u001b[39m \u001b[38;5;28mprint\u001b[39m(\u001b[33m\"\u001b[39m\u001b[33mnumber of options: \u001b[39m\u001b[33m\"\u001b[39m,calls.size)\n\u001b[32m      6\u001b[39m calls.head()\n",
      "\u001b[36mFile \u001b[39m\u001b[32mc:\\Users\\Lenovo\\Desktop\\MC\\MonteCarloOptionPricing\\Load_data_yfiance.py:11\u001b[39m, in \u001b[36mget_data\u001b[39m\u001b[34m(Ticker, r, Today)\u001b[39m\n\u001b[32m      9\u001b[39m mean = price.mean()\n\u001b[32m     10\u001b[39m var = price.var()\n\u001b[32m---> \u001b[39m\u001b[32m11\u001b[39m std = \u001b[43mnp\u001b[49m.sqrt(var)\n\u001b[32m     12\u001b[39m hist = Ticker.history(period=\u001b[33m\"\u001b[39m\u001b[33m1d\u001b[39m\u001b[33m\"\u001b[39m)\n\u001b[32m     13\u001b[39m underly = hist[\u001b[33m'\u001b[39m\u001b[33mClose\u001b[39m\u001b[33m'\u001b[39m].iloc[-\u001b[32m1\u001b[39m]\n",
      "\u001b[31mNameError\u001b[39m: name 'np' is not defined"
     ]
    }
   ],
   "source": [
    "spx = yf.Ticker(\"^SPX\")\n",
    "r = 0.045\n",
    "Today = \"2025-10-16\"\n",
    "calls,option = get_data(Ticker = spx, r = r, Today = Today)\n",
    "print(\"number of options: \",calls.size)\n",
    "calls.head()"
   ]
  },
  {
   "cell_type": "code",
   "execution_count": null,
   "id": "9b10f8f9",
   "metadata": {},
   "outputs": [],
   "source": [
    "interp,regres = get_interp(calls)\n",
    "plot_two_interp(interp,regres,calls)"
   ]
  },
  {
   "cell_type": "code",
   "execution_count": null,
   "id": "a9dc8d83",
   "metadata": {},
   "outputs": [],
   "source": [
    "impvol_interp = interp\n",
    "params = [calls[\"S0\"].iloc[0],calls[\"r\"].iloc[0],impvol_interp]\n",
    "local_vol_surface = get_local_vol_surface(calls,params)\n",
    "plot_local_vol_surface(calls,local_vol_surface)\n"
   ]
  },
  {
   "cell_type": "code",
   "execution_count": null,
   "id": "a9531ae0",
   "metadata": {},
   "outputs": [],
   "source": [
    "impvol_interp = regres\n",
    "params = [calls[\"S0\"].iloc[0],calls[\"r\"].iloc[0],impvol_interp]\n",
    "local_vol_surface_ = get_local_vol_surface(calls,params)\n",
    "plot_local_vol_surface(calls,local_vol_surface_)"
   ]
  },
  {
   "cell_type": "code",
   "execution_count": null,
   "id": "5d19c21b",
   "metadata": {},
   "outputs": [],
   "source": [
    "# Exercise price\n",
    "K = 6000\n",
    "# time in years\n",
    "T = 1.0\n",
    "# number of time steps in simulation\n",
    "N = 252\n",
    "# asset price\n",
    "S0 = calls[\"S0\"].iloc[0]\n",
    "# risk-free rate\n",
    "r = calls[\"r\"].iloc[0]\n",
    "# Divident rate <---------- need to double check\n",
    "q = 0\n",
    "# number of simulations\n",
    "M = 100\n",
    "# Get the index of K closest to the desired strike price in the calls DataFrame\n",
    "import numpy as np\n",
    "\n",
    "# Extract unique strike prices and times to maturity from the calls DataFrame\n",
    "strike_arr = np.array(sorted(calls['strike'].unique()))\n",
    "ttm_arr = np.array(sorted(calls['ttm'].unique()))\n",
    "\n",
    "# Find index of K in strike array. If not found, use closest.\n",
    "K_idx = (np.abs(strike_arr - K)).argmin()\n",
    "# Get the corresponding path (all times for closest K)\n",
    "V_path = local_vol_surface[K_idx, :]\n",
    "\n",
    "# V_path = local_vol_surface"
   ]
  },
  {
   "cell_type": "code",
   "execution_count": null,
   "id": "bd74e581",
   "metadata": {},
   "outputs": [],
   "source": [
    "v0,kappa,theta,rho,sigma = fit_Heston_model(calls)\n",
    "print(\"initial variance under risk-neutral dynamics\")\n",
    "print(\"v0:\", v0)\n",
    "print(\"rate of mean reversion of variance under risk-neutral dynamics\")\n",
    "print(\"kappa:\", kappa)\n",
    "print(\"long-term mean of variance under risk-neutral dynamics\")\n",
    "print(\"theta:\", theta)\n",
    "print(\"correlation between returns and variances under risk-neutral dynamics\")\n",
    "print(\"rho:\", rho)\n",
    "print(\"volatility of volatility\")\n",
    "print(\"sigma:\", sigma)"
   ]
  },
  {
   "cell_type": "code",
   "execution_count": null,
   "id": "56326493",
   "metadata": {},
   "outputs": [],
   "source": [
    "# Exercise price\n",
    "K = 6000\n",
    "# time in years\n",
    "T = 1.0\n",
    "# number of time steps in simulation\n",
    "N = 252\n",
    "# asset price\n",
    "S0 = calls[\"S0\"].iloc[0]\n",
    "# risk-free rate\n",
    "r = calls[\"r\"].iloc[0]\n",
    "# Divident rate <---------- need to double check\n",
    "q = 0\n",
    "# number of simulations\n",
    "M = 100\n",
    "\n",
    "S_path,V_path = heston_simulation(S0=S0,r=r,q=q,K=K,T=T,v0=v0,kappa=kappa,theta=theta,rho=rho,sigma=sigma,paths=M,steps=N)\n",
    "plt.plot(S_path[:,:50])\n",
    "plt.show()"
   ]
  },
  {
   "cell_type": "code",
   "execution_count": null,
   "id": "b03f7ba4",
   "metadata": {},
   "outputs": [],
   "source": [
    "def heston_simulation(S0,r,q,K,T,v0,kappa,theta,rho,sigma,paths,steps):\n",
    "    \"\"\"\n",
    "    paths:路径数\n",
    "    steps：模拟天数\n",
    "    \"\"\"\n",
    "    dt = T/steps\n",
    "    S_path = np.zeros((steps+1,paths))\n",
    "    V_path = np.zeros((steps+1,paths))\n",
    "    S_path[0] = S0\n",
    "    V_path[0] = v0\n",
    "    \n",
    "    for step in range(1,steps+1):\n",
    "        rn1 = np.random.standard_normal(paths) \n",
    "        rn2 = np.random.standard_normal(paths)\n",
    "        rn2 = rho*rn1 + np.sqrt(1-rho**2)*rn2  #利用cholesky分解，重新赋值rn2确保两个相关系数为rho\n",
    "        \n",
    "        S_path[step] = S_path[step - 1] * np.exp((r-q-0.5*V_path[step-1])*dt + np.sqrt(V_path[step-1])*np.sqrt(dt)*rn1) #几何布朗运动的解\n",
    "        V_path[step] = (np.sqrt(V_path[step - 1]) + sigma/2*np.sqrt(dt)*rn2)**2 + kappa*(theta-V_path[step - 1])*dt - sigma**2/4*dt \n",
    "        V_path[step] = np.maximum(V_path[step],0)  #避免v取到负数，和0取大作为结果\n",
    "        \n",
    "    value = np.maximum(S_path[-1] - K,0).mean()   \n",
    "    \n",
    "    return S_path,V_path,value"
   ]
  },
  {
   "cell_type": "code",
   "execution_count": null,
   "id": "936d2bfe",
   "metadata": {},
   "outputs": [],
   "source": [
    "def payoff_shark_fin_call(S_array, K, B):\n",
    "    \"\"\"\n",
    "    单步近似：\n",
    "      若最终价 S_T >= B，则认为障碍被触及 => Payoff = 0\n",
    "      否则 Payoff = max(S_T - K, 0)\n",
    "    \"\"\"\n",
    "    return np.where(S_array >= B, 0.0, np.maximum(S_array - K, 0.0))"
   ]
  }
 ],
 "metadata": {
  "kernelspec": {
   "display_name": "env2",
   "language": "python",
   "name": "python3"
  },
  "language_info": {
   "codemirror_mode": {
    "name": "ipython",
    "version": 3
   },
   "file_extension": ".py",
   "mimetype": "text/x-python",
   "name": "python",
   "nbconvert_exporter": "python",
   "pygments_lexer": "ipython3",
   "version": "3.12.11"
  }
 },
 "nbformat": 4,
 "nbformat_minor": 5
}
